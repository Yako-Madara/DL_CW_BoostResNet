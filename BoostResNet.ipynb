{
 "cells": [
  {
   "cell_type": "code",
   "execution_count": 1,
   "id": "6b9da947",
   "metadata": {},
   "outputs": [],
   "source": [
    "import gc\n",
    "import numpy as np\n",
    "import matplotlib as mpl\n",
    "import matplotlib.pyplot as plt\n",
    "from torch.utils.data import DataLoader\n",
    "import torch\n",
    "import torchvision\n",
    "from torch.utils.data import random_split\n",
    "import torchvision.transforms as transforms\n",
    "import torch.nn as nn\n",
    "import sys\n",
    "from model.resnet50model import ResNet50\n",
    "from utils.modelbuilder import ModelBuilder\n",
    "from utils.utils import MetricCollector, plot_summary, mem_start, mem_end\n",
    "plt.style.use('default')"
   ]
  },
  {
   "cell_type": "code",
   "execution_count": 2,
   "id": "e83cea8c",
   "metadata": {},
   "outputs": [
    {
     "data": {
      "text/plain": [
       "<torch.autograd.profiler.emit_nvtx at 0x11e818b6910>"
      ]
     },
     "execution_count": 2,
     "metadata": {},
     "output_type": "execute_result"
    }
   ],
   "source": [
    "# Отключаем средства дебаггинга\n",
    "torch.autograd.set_detect_anomaly(False)\n",
    "torch.autograd.profiler.profile(False)\n",
    "torch.autograd.profiler.emit_nvtx(False)"
   ]
  },
  {
   "cell_type": "code",
   "execution_count": 3,
   "id": "3aa0fec5",
   "metadata": {},
   "outputs": [],
   "source": [
    "PATH = 'path_to_folder/data'\n",
    "BATCH_SIZE = 512\n",
    "LR = 0.001\n",
    "WEIGHT_DECAY = 5e-4\n",
    "EPOCHS = 1 #maximum iterations before stopping train layer\n",
    "USE_AMP = True\n",
    "BLOCKS = 17"
   ]
  },
  {
   "cell_type": "code",
   "execution_count": 4,
   "id": "6b8f0ebb",
   "metadata": {},
   "outputs": [
    {
     "name": "stdout",
     "output_type": "stream",
     "text": [
      "Using cuda device\n"
     ]
    }
   ],
   "source": [
    "# Определим устройство\n",
    "device = \"cuda\" if torch.cuda.is_available() else \"cpu\"\n",
    "if device == 'cuda':\n",
    "    torch.backends.cudnn.benchmark = True\n",
    "print(\"Using {} device\".format(device))"
   ]
  },
  {
   "cell_type": "markdown",
   "id": "ce515a46",
   "metadata": {},
   "source": [
    "### Загрузим датасеты    \n",
    "Определим конвейер преобразования изображений"
   ]
  },
  {
   "cell_type": "code",
   "execution_count": 5,
   "id": "fad2ecd1",
   "metadata": {},
   "outputs": [],
   "source": [
    "transform_train = transforms.Compose([\n",
    "                            transforms.RandomCrop(32, padding=4),\n",
    "                            transforms.RandomHorizontalFlip(),\n",
    "                            transforms.ToTensor(), \n",
    "                            transforms.Normalize(mean=[0.485, 0.456, 0.406],\n",
    "                                                std=[0.229, 0.224, 0.225])])\n",
    "\n",
    "transform_test = transforms.Compose([\n",
    "                            transforms.ToTensor(), \n",
    "                            transforms.Normalize(mean=[0.485, 0.456, 0.406],\n",
    "                                                std=[0.229, 0.224, 0.225])])"
   ]
  },
  {
   "cell_type": "markdown",
   "id": "1b2a4a2c",
   "metadata": {},
   "source": [
    "Загрузим датасет CIFAR-10"
   ]
  },
  {
   "cell_type": "code",
   "execution_count": 6,
   "id": "abc4e298",
   "metadata": {},
   "outputs": [
    {
     "name": "stdout",
     "output_type": "stream",
     "text": [
      "Files already downloaded and verified\n"
     ]
    }
   ],
   "source": [
    "# Загрузим датасет CIFAR-10 train\n",
    "cifar_train = torchvision.datasets.CIFAR10(root=PATH, \n",
    "                                           train=True, \n",
    "                                           download=True, \n",
    "                                           transform=transform_train)"
   ]
  },
  {
   "cell_type": "code",
   "execution_count": 7,
   "id": "3cfa927d",
   "metadata": {},
   "outputs": [
    {
     "name": "stdout",
     "output_type": "stream",
     "text": [
      "Files already downloaded and verified\n"
     ]
    }
   ],
   "source": [
    "# test cifar\n",
    "cifar_test = torchvision.datasets.CIFAR10(root=PATH, \n",
    "                                          train=False, \n",
    "                                          download=True, \n",
    "                                          transform=transform_test)"
   ]
  },
  {
   "cell_type": "markdown",
   "id": "d0edd1c7",
   "metadata": {},
   "source": [
    "Загрузим датасет SVHN"
   ]
  },
  {
   "cell_type": "code",
   "execution_count": 8,
   "id": "21cb773d",
   "metadata": {},
   "outputs": [
    {
     "name": "stdout",
     "output_type": "stream",
     "text": [
      "Using downloaded and verified file: C:/Users/Artem/Desktop/Data_Science/My_programms/BoostResNet DL course project/src/baseline/data/svhn\\train_32x32.mat\n"
     ]
    }
   ],
   "source": [
    "# train\n",
    "dataset_svhn = torchvision.datasets.SVHN(root=f'{PATH}/svhn', \n",
    "                                         split='train', \n",
    "                                         download=True, \n",
    "                                         transform=transform_test)"
   ]
  },
  {
   "cell_type": "code",
   "execution_count": 9,
   "id": "e882acc3",
   "metadata": {},
   "outputs": [
    {
     "name": "stdout",
     "output_type": "stream",
     "text": [
      "Using downloaded and verified file: C:/Users/Artem/Desktop/Data_Science/My_programms/BoostResNet DL course project/src/baseline/data/svhn\\test_32x32.mat\n"
     ]
    }
   ],
   "source": [
    "# test\n",
    "svhn_test = torchvision.datasets.SVHN(root=f'{PATH}/svhn', \n",
    "                                      split='test', \n",
    "                                      download=True, \n",
    "                                      transform=transform_test)"
   ]
  },
  {
   "cell_type": "code",
   "execution_count": 10,
   "id": "5e823410",
   "metadata": {},
   "outputs": [],
   "source": [
    "# разделим датасет svhn\n",
    "val_size = 12000\n",
    "train_size = len(dataset_svhn)  - val_size"
   ]
  },
  {
   "cell_type": "code",
   "execution_count": 11,
   "id": "8a881510",
   "metadata": {},
   "outputs": [],
   "source": [
    "train_svhn, val_svhn = random_split(dataset_svhn, [train_size, val_size])"
   ]
  },
  {
   "cell_type": "markdown",
   "id": "8be59d93",
   "metadata": {},
   "source": [
    "### Подготовим загрузчики"
   ]
  },
  {
   "cell_type": "code",
   "execution_count": 8,
   "id": "225d4ebc",
   "metadata": {},
   "outputs": [],
   "source": [
    "# CIFAR-10\n",
    "train_loader_cifar = DataLoader(cifar_train, \n",
    "                                batch_size=BATCH_SIZE, \n",
    "                                shuffle=True,\n",
    "                                num_workers=2,\n",
    "                                pin_memory=True)\n",
    "\n",
    "val_loader_cifar = DataLoader(cifar_test, \n",
    "                              batch_size=BATCH_SIZE,\n",
    "                              shuffle=False,\n",
    "                              num_workers=2,\n",
    "                              pin_memory=True)"
   ]
  },
  {
   "cell_type": "code",
   "execution_count": null,
   "id": "1399f6ee",
   "metadata": {
    "collapsed": true
   },
   "outputs": [],
   "source": [
    "# SVHN\n",
    "# SVHN\n",
    "train_loader_svhn = DataLoader(train_svhn, \n",
    "                               batch_size=BATCH_SIZE, \n",
    "                               shuffle=True, \n",
    "                               num_workers=2,\n",
    "                               pin_memory=True)\n",
    "\n",
    "val_loader_svhn = DataLoader(val_svhn, \n",
    "                             batch_size=BATCH_SIZE, \n",
    "                             num_workers=2,\n",
    "                             pin_memory=True)"
   ]
  },
  {
   "cell_type": "code",
   "execution_count": 9,
   "id": "2681738f",
   "metadata": {},
   "outputs": [
    {
     "name": "stdout",
     "output_type": "stream",
     "text": [
      "Shape of X [N, C, H, W]:  torch.Size([512, 3, 32, 32])\n",
      "Shape of y:  torch.Size([512]) torch.int64\n"
     ]
    }
   ],
   "source": [
    "for X, y in train_loader_cifar:\n",
    "    print(\"Shape of X [N, C, H, W]: \", X.shape)\n",
    "    print(\"Shape of y: \", y.shape, y.dtype)\n",
    "    break"
   ]
  },
  {
   "cell_type": "markdown",
   "id": "27935b7d",
   "metadata": {},
   "source": [
    "### Загружаем обучаемую модель ResNet50 "
   ]
  },
  {
   "cell_type": "code",
   "execution_count": 10,
   "id": "a3dd135d",
   "metadata": {},
   "outputs": [],
   "source": [
    "model = ResNet50()"
   ]
  },
  {
   "cell_type": "code",
   "execution_count": 11,
   "id": "8bdc1378",
   "metadata": {},
   "outputs": [],
   "source": [
    "loss_fn = torch.nn.CrossEntropyLoss()\n",
    "scaler = torch.cuda.amp.GradScaler(enabled=USE_AMP)"
   ]
  },
  {
   "cell_type": "markdown",
   "id": "c8c668c7",
   "metadata": {},
   "source": [
    "Разложим модель на составные части"
   ]
  },
  {
   "cell_type": "code",
   "execution_count": 12,
   "id": "7474fc9c",
   "metadata": {},
   "outputs": [],
   "source": [
    "# Создадим словарь из блоков обучаемой модели\n",
    "AllBlocks = {}\n",
    "AllBlocks[0] = nn.Sequential(model.conv1, model.bn1, nn.ReLU())\n",
    "for i in range(3): AllBlocks[1 + i] = model.layer1[i] \n",
    "for i in range(4): AllBlocks[4 + i] = model.layer2[i] \n",
    "for i in range(6): AllBlocks[8 + i] = model.layer3[i]\n",
    "for i in range(3): AllBlocks[14+ i] = model.layer4[i]\n"
   ]
  },
  {
   "cell_type": "code",
   "execution_count": 13,
   "id": "b5d39e43",
   "metadata": {},
   "outputs": [],
   "source": [
    "collector = MetricCollector(BLOCKS, EPOCHS)"
   ]
  },
  {
   "cell_type": "code",
   "execution_count": null,
   "id": "ad328700",
   "metadata": {},
   "outputs": [],
   "source": [
    "for n in range(BLOCKS):\n",
    "    mem_start()\n",
    "    ModelTmp = ModelBuilder(model, AllBlocks, n)\n",
    "    ModelTmp = ModelTmp.to(device)\n",
    "    optimizer = torch.optim.Adam(ModelTmp.parameters(), lr=LR, weight_decay=WEIGHT_DECAY)\n",
    "    \n",
    "    for epoch in range(EPOCHS):\n",
    "        train_err = 0\n",
    "        acc_train = 0 \n",
    "        num_correct_train = 0\n",
    "        num_examples_train = 0\n",
    "        model.train()\n",
    "        for batch in train_loader_cifar:\n",
    "            X, y = batch\n",
    "            #X, y = X.to(device), y.to(device)\n",
    "\n",
    "            for i in range(n): \n",
    "                AllBlocks[i] = AllBlocks[i].to('cpu')\n",
    "                X = AllBlocks[i](X)\n",
    "                \n",
    "            X, y = X.to(device), y.to(device)\n",
    "            \n",
    "           # with torch.autocast(device_type=device, dtype=torch.float16):\n",
    "            output = ModelTmp(X)\n",
    "            loss = loss_fn(output, y)\n",
    "            \n",
    "            #scaler.scale(loss).backward()\n",
    "            #scaler.step(optimizer)\n",
    "            #scaler.update()\n",
    "            loss.backward()\n",
    "            optimizer.step()\n",
    "            \n",
    "            # Посчитаем ошибку\n",
    "            train_err += loss.item() * X.size(0)\n",
    "            \n",
    "            # Запишем ошибку\n",
    "            collector.train_batch_error.append(loss.item())\n",
    "\n",
    "            # Посчитаем точность\n",
    "            correct = torch.sum(torch.eq(torch.max(output, dim=1)[1], y)).item()\n",
    "            num_examples = X.shape[0]\n",
    "            # Запишем точность\n",
    "            collector.train_batch_acc.append(correct / num_examples)\n",
    "            \n",
    "            num_correct_train += correct\n",
    "            num_examples_train += num_examples\n",
    "            \n",
    "            # Сброс градиентов\n",
    "            for param in ModelTmp.parameters():\n",
    "                param.grad = None\n",
    "            \n",
    "        acc_train = num_correct_train / num_examples_train\n",
    "        train_err /= len(train_loader_cifar.dataset)\n",
    "        \n",
    "        # Добавим полученные значения в коллектор\n",
    "        collector.train_acc[n][epoch] = acc_train\n",
    "        collector.train_err[n][epoch] = train_err\n",
    "            \n",
    "        # посчитаем ошибку и точность на валидационном множестве\n",
    "        model.eval()\n",
    "        valid_err = 0\n",
    "        acc_val = 0\n",
    "        num_correct_val = 0\n",
    "        num_examples_val = 0\n",
    "        with torch.no_grad():\n",
    "            for batch in val_loader_cifar:\n",
    "                X, y = batch\n",
    "                #X, y = X.to(device), y.to(device)\n",
    "    \n",
    "                for i in range(n): \n",
    "                    X = AllBlocks[i](X)\n",
    "                \n",
    "                X, y = X.to(device), y.to(device)\n",
    "                output = ModelTmp(X)\n",
    "                loss = loss_fn(output, y)\n",
    "                # Посчитаем ошибку\n",
    "            \n",
    "                valid_err += loss.item() * X.size(0)\n",
    "                collector.val_batch_error.append(loss.item())\n",
    "            \n",
    "                # Посчитаем точность\n",
    "                correct = torch.sum(torch.eq(torch.max(output, dim=1)[1], y)).item()\n",
    "                num_examples = X.shape[0]\n",
    "                collector.val_batch_acc.append(correct / num_examples)\n",
    "                \n",
    "                num_correct_val += correct\n",
    "                num_examples_val += num_examples\n",
    "        \n",
    "        acc_val = num_correct_val / num_examples_val\n",
    "        valid_err /= len(val_loader_cifar.dataset)\n",
    "        \n",
    "        # Добавим полученные значения в коллектор    \n",
    "        collector.val_acc[n][epoch] = acc_val\n",
    "        collector.val_err[n][epoch] = valid_err \n",
    "\n",
    "    for param in ModelTmp.parameters():\n",
    "        param.grad = None\n",
    "    ModelTmp.head = None\n",
    "    model = model.to('cpu')\n",
    "    gc.collect()\n",
    "    torch.cuda.empty_cache()\n",
    "    # Выведем итоговые результаты для блока\n",
    "    train_acc, train_err, val_acc, val_err = collector.summary_block(n)  \n",
    "            \n",
    "    print(f\"Block: {n}, Train Error: {train_err:0.3f}, Train Acc: {train_acc:0.3f},\"\n",
    "          f\"Valid Error: {val_err:0.3f}, Valid Acc: {val_acc:0.3f}\")\n",
    "\n",
    "    mem_end()\n"
   ]
  },
  {
   "cell_type": "code",
   "execution_count": null,
   "id": "9d11a5c9",
   "metadata": {},
   "outputs": [],
   "source": [
    "# Построим общий график для всей модели целиком\n",
    "plot_summary(collector)"
   ]
  },
  {
   "cell_type": "code",
   "execution_count": null,
   "id": "f882b0d5",
   "metadata": {},
   "outputs": [],
   "source": []
  },
  {
   "cell_type": "code",
   "execution_count": null,
   "id": "8b1e9169",
   "metadata": {},
   "outputs": [],
   "source": []
  },
  {
   "cell_type": "code",
   "execution_count": null,
   "id": "94b32ff0",
   "metadata": {},
   "outputs": [],
   "source": []
  },
  {
   "cell_type": "code",
   "execution_count": null,
   "id": "1a608e84",
   "metadata": {},
   "outputs": [],
   "source": []
  },
  {
   "cell_type": "code",
   "execution_count": null,
   "id": "2692a4e6",
   "metadata": {},
   "outputs": [],
   "source": []
  }
 ],
 "metadata": {
  "kernelspec": {
   "display_name": "Python 3 (ipykernel)",
   "language": "python",
   "name": "python3"
  },
  "language_info": {
   "codemirror_mode": {
    "name": "ipython",
    "version": 3
   },
   "file_extension": ".py",
   "mimetype": "text/x-python",
   "name": "python",
   "nbconvert_exporter": "python",
   "pygments_lexer": "ipython3",
   "version": "3.9.12"
  },
  "vscode": {
   "interpreter": {
    "hash": "f5742b939448406dc9452fb4bcdaa04b1d36ebd59083e6e66b8eacc4febbf333"
   }
  }
 },
 "nbformat": 4,
 "nbformat_minor": 5
}
